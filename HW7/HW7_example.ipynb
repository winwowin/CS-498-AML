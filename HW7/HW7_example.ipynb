{
 "cells": [
  {
   "cell_type": "code",
   "execution_count": 0,
   "metadata": {
    "colab": {
     "base_uri": "https://localhost:8080/",
     "height": 35
    },
    "colab_type": "code",
    "id": "3EG0Qh0GPGO4",
    "outputId": "ff5e00fe-39f8-4919-b12e-7beb51d75fed"
   },
   "outputs": [
    {
     "name": "stdout",
     "output_type": "stream",
     "text": [
      "Drive already mounted at /content/drive; to attempt to forcibly remount, call drive.mount(\"/content/drive\", force_remount=True).\n"
     ]
    }
   ],
   "source": [
    "from google.colab import drive\n",
    "drive.mount('/content/drive')\n",
    "import pandas as pd\n",
    "import matplotlib.pyplot as plt\n",
    "import operator\n",
    "import numpy as np\n",
    "from matplotlib import pyplot"
   ]
  },
  {
   "cell_type": "markdown",
   "metadata": {
    "colab_type": "text",
    "id": "05vGVOO3RKqb"
   },
   "source": [
    "**Part 1 Preprocessing with Bag-of-Words**"
   ]
  },
  {
   "cell_type": "code",
   "execution_count": 0,
   "metadata": {
    "colab": {
     "base_uri": "https://localhost:8080/",
     "height": 394
    },
    "colab_type": "code",
    "id": "gtjf1c5bQOR8",
    "outputId": "ff604e0d-9842-48e0-e013-a663822ec043"
   },
   "outputs": [
    {
     "data": {
      "text/plain": [
       "Text(0.5, 1.0, 'Updated Word Frequency')"
      ]
     },
     "execution_count": 21,
     "metadata": {
      "tags": []
     },
     "output_type": "execute_result"
    },
    {
     "data": {
      "image/png": "[encoded data removed]",
      "text/plain": [
       "<Figure size 576x396 with 1 Axes>"
      ]
     },
     "metadata": {
      "tags": []
     },
     "output_type": "display_data"
    }
   ],
   "source": [
    "# read csv\n",
    "df = pd.read_csv(\"drive/My Drive/CS498AML/yelp_2k.csv\")\n",
    "X = df.loc[:,\"text\"]\n",
    "y = df.loc[:,\"stars\"]\n",
    "\n",
    "# convert to bag-of-words representation\n",
    "from sklearn.feature_extraction.text import CountVectorizer\n",
    "vectorizer = CountVectorizer()\n",
    "X_bags = vectorizer.fit_transform(X)\n",
    "X_bags = X_bags.toarray()\n",
    "names = vectorizer.get_feature_names()\n",
    "\n",
    "# bag of words analysis\n",
    "words_counts = X_bags.sum(axis = 0)\n",
    "dictionary = dict(zip(names, words_counts))\n",
    "sorted_x = sorted(dictionary.items(), key=operator.itemgetter(1), reverse = True)\n",
    "sorted_x = np.array(sorted_x)\n",
    "\n",
    "# words rank vs. words count\n",
    "# words_rank = sorted_x[:,1]\n",
    "# words_rank = words_rank.astype(int)\n",
    "# plt.plot(range(len(words_rank)), words_rank)\n",
    "# plt.xlabel(\"word rank\")\n",
    "# plt.ylabel(\"word count\")\n",
    "# plt.title(\"Word Frequency\")\n",
    "\n",
    "# stop words, minf & maxf\n",
    "stop_words = ['the', 'and', 'to', 'was', 'it', 'of', 'for', 'in', 'my', 'is', 'that', 'they', 'this', 'we',\n",
    "             'you', 'with', 'but', 'had', 'me', 'at', 'were', 'are', 'there', 'as', 'he', 'if', 'when', 'out',\n",
    "             'would', 'get', 'our', 'she', 'from', 'their', 'here', 'will', 'about', 'them', 'what', 'yours',\n",
    "             'us', 'which', 'by', 'where']\n",
    "\n",
    "cv = CountVectorizer(stop_words = stop_words, min_df = 0.01, max_df = 0.99, lowercase=True)\n",
    "new_X = cv.fit_transform(X).toarray()\n",
    "new_names = cv.get_feature_names()\n",
    "\n",
    "new_words_counts = new_X.sum(axis = 0)\n",
    "dictionary = dict(zip(new_names, new_words_counts))\n",
    "new_sorted_x = np.array(sorted(dictionary.items(), key=operator.itemgetter(1), reverse = True))\n",
    "\n",
    "# words rank vs. words count\n",
    "word_rank = new_sorted_x[:,1]\n",
    "word_rank = word_rank.astype(int)\n",
    "plt.plot(word_rank)\n",
    "plt.xlabel(\"word rank\")\n",
    "plt.ylabel(\"word count\")\n",
    "plt.title(\"Updated Word Frequency\")\n"
   ]
  },
  {
   "cell_type": "markdown",
   "metadata": {
    "colab_type": "text",
    "id": "Eig4EgaiZkGG"
   },
   "source": [
    "**Part 2 Text Retrieval**"
   ]
  },
  {
   "cell_type": "code",
   "execution_count": 0,
   "metadata": {
    "colab": {},
    "colab_type": "code",
    "id": "Nsye0EFglOA-"
   },
   "outputs": [],
   "source": [
    "### 1. \n",
    "# target words\n",
    "new_names = cv.get_feature_names()\n",
    "hcs = [\"horrible\", \"customer\", \"service\"]\n",
    "idxs = [new_names.index(word) for word in hcs]\n",
    "target = np.zeros(len(new_names))\n",
    "for idx in idxs:\n",
    "    target[idx] = 1\n",
    "target = target.reshape(1,-1)\n",
    "\n",
    "# find top 5 reviews \n",
    "from sklearn.metrics.pairwise import cosine_similarity\n",
    "from sklearn.neighbors import NearestNeighbors\n",
    "neigh = NearestNeighbors(n_neighbors=5, metric = 'cosine')\n",
    "neigh_X = neigh.fit(new_X) \n",
    "match = neigh.kneighbors(target)\n",
    "\n",
    "### 2.\n",
    "match_idx = match[1]\n",
    "from numpy import array\n",
    "match_reviews = array([X[idx] for idx in match_idx])\n",
    "horrible200_reviews = []\n",
    "for i in range(5):\n",
    "    horrible200_reviews.append(match_reviews[0][i].split()[:200])\n",
    "\n",
    "\n",
    "### 3. \n",
    "distance_scores = match[0]"
   ]
  },
  {
   "cell_type": "code",
   "execution_count": 0,
   "metadata": {
    "colab": {
     "base_uri": "https://localhost:8080/",
     "height": 35
    },
    "colab_type": "code",
    "id": "gxY-DdxWhotc",
    "outputId": "b745a918-0d8f-445d-fdc9-b29fbf422d0e"
   },
   "outputs": [
    {
     "data": {
      "text/plain": [
       "array([[0.33773382, 0.4867351 , 0.53811978, 0.56966852, 0.57836298]])"
      ]
     },
     "execution_count": 24,
     "metadata": {
      "tags": []
     },
     "output_type": "execute_result"
    }
   ],
   "source": [
    "distance_scores"
   ]
  },
  {
   "cell_type": "code",
   "execution_count": 0,
   "metadata": {
    "colab": {
     "base_uri": "https://localhost:8080/",
     "height": 4532
    },
    "colab_type": "code",
    "id": "SPmGHKz_gxj4",
    "outputId": "3598b02a-cb3c-4f14-b9da-5dca36e5a980"
   },
   "outputs": [
    {
     "data": {
      "text/plain": [
       "[['Rogers',\n",
       "  '...',\n",
       "  '1)',\n",
       "  'is',\n",
       "  'over',\n",
       "  'priced',\n",
       "  '2)',\n",
       "  'have',\n",
       "  'horrible',\n",
       "  'customer',\n",
       "  'service',\n",
       "  '3)',\n",
       "  'faulty',\n",
       "  'and',\n",
       "  'incorrect',\n",
       "  'billing',\n",
       "  '4)',\n",
       "  'poor',\n",
       "  'customer',\n",
       "  'service',\n",
       "  '5)',\n",
       "  'not',\n",
       "  'enough',\n",
       "  'options',\n",
       "  '6)',\n",
       "  'never',\n",
       "  'arrive',\n",
       "  'for',\n",
       "  'an',\n",
       "  'appointment'],\n",
       " ['Horrible',\n",
       "  'service,',\n",
       "  'horrible',\n",
       "  'customer',\n",
       "  'service,',\n",
       "  'and',\n",
       "  'horrible',\n",
       "  'quality',\n",
       "  'of',\n",
       "  'service!',\n",
       "  'Do',\n",
       "  'not',\n",
       "  'waste',\n",
       "  'your',\n",
       "  'time',\n",
       "  'or',\n",
       "  'money',\n",
       "  'using',\n",
       "  'this',\n",
       "  'company',\n",
       "  'for',\n",
       "  'your',\n",
       "  'pool',\n",
       "  'needs.',\n",
       "  'Dan',\n",
       "  '(602)363-8267',\n",
       "  'broke',\n",
       "  'my',\n",
       "  'pool',\n",
       "  'filtration',\n",
       "  'system',\n",
       "  'and',\n",
       "  'left',\n",
       "  'it',\n",
       "  'in',\n",
       "  'a',\n",
       "  'nonworking',\n",
       "  'condition.',\n",
       "  'He',\n",
       "  'will',\n",
       "  'not',\n",
       "  'repair',\n",
       "  'the',\n",
       "  'issue',\n",
       "  'he',\n",
       "  'caused,',\n",
       "  'and',\n",
       "  'told',\n",
       "  'me',\n",
       "  'to',\n",
       "  'go',\n",
       "  'somewhere',\n",
       "  'else.',\n",
       "  'Save',\n",
       "  'yourself',\n",
       "  'the',\n",
       "  'hassle,',\n",
       "  'there',\n",
       "  'are',\n",
       "  'plenty',\n",
       "  'of',\n",
       "  'other',\n",
       "  'quality',\n",
       "  'pool',\n",
       "  'companies',\n",
       "  'out',\n",
       "  'there.',\n",
       "  'Take',\n",
       "  'care!'],\n",
       " ['Service',\n",
       "  'was',\n",
       "  'horrible',\n",
       "  'came',\n",
       "  'with',\n",
       "  'a',\n",
       "  'major',\n",
       "  'attitude.',\n",
       "  'Payed',\n",
       "  '30',\n",
       "  'for',\n",
       "  'lasagna',\n",
       "  'and',\n",
       "  'was',\n",
       "  'no',\n",
       "  'where',\n",
       "  'worth',\n",
       "  'it.',\n",
       "  \"Won't\",\n",
       "  'ever',\n",
       "  'be',\n",
       "  'going',\n",
       "  'back',\n",
       "  'and',\n",
       "  'will',\n",
       "  'NEVER',\n",
       "  'recommend',\n",
       "  'this',\n",
       "  'place.',\n",
       "  'was',\n",
       "  'treated',\n",
       "  'absolutely',\n",
       "  'horrible.',\n",
       "  'Horrible.'],\n",
       " ['Went',\n",
       "  'to',\n",
       "  'Marca',\n",
       "  'today',\n",
       "  'to',\n",
       "  'get',\n",
       "  'a',\n",
       "  'haircut',\n",
       "  'and',\n",
       "  'was',\n",
       "  'given',\n",
       "  'a',\n",
       "  'great',\n",
       "  'service',\n",
       "  'both',\n",
       "  'by',\n",
       "  'front',\n",
       "  'desk',\n",
       "  '-',\n",
       "  'customer',\n",
       "  'service',\n",
       "  'and',\n",
       "  'by',\n",
       "  'Georgia,',\n",
       "  'girl',\n",
       "  'who',\n",
       "  'did',\n",
       "  'my',\n",
       "  'hair.',\n",
       "  'I',\n",
       "  'guess',\n",
       "  'I',\n",
       "  'got',\n",
       "  'lucky',\n",
       "  'with',\n",
       "  'her',\n",
       "  'as',\n",
       "  'she',\n",
       "  'has',\n",
       "  'years',\n",
       "  'of',\n",
       "  'experience',\n",
       "  'doing',\n",
       "  'this',\n",
       "  'job.',\n",
       "  'She',\n",
       "  'has',\n",
       "  'excellent',\n",
       "  'customer',\n",
       "  'service',\n",
       "  'skills',\n",
       "  'and',\n",
       "  'takes',\n",
       "  'excellent',\n",
       "  'care',\n",
       "  'of',\n",
       "  'her',\n",
       "  'customers.'],\n",
       " ['I',\n",
       "  'come',\n",
       "  'here',\n",
       "  'now',\n",
       "  'for',\n",
       "  'all',\n",
       "  'my',\n",
       "  'car',\n",
       "  'service',\n",
       "  'needs.',\n",
       "  'In',\n",
       "  'my',\n",
       "  'experiences,',\n",
       "  'the',\n",
       "  'work',\n",
       "  'is',\n",
       "  'always',\n",
       "  'performed',\n",
       "  'in',\n",
       "  'an',\n",
       "  'efficient,',\n",
       "  'effective',\n",
       "  'manner',\n",
       "  'and',\n",
       "  'in',\n",
       "  'good',\n",
       "  'humor.',\n",
       "  'I',\n",
       "  'appreciate',\n",
       "  'the',\n",
       "  'consistent',\n",
       "  'attention',\n",
       "  'paid',\n",
       "  'to',\n",
       "  'provide',\n",
       "  'above',\n",
       "  'par',\n",
       "  'customer',\n",
       "  'service.',\n",
       "  'Service',\n",
       "  'is',\n",
       "  'routinely',\n",
       "  'administered',\n",
       "  'in',\n",
       "  'an',\n",
       "  'expedient',\n",
       "  'fashion,',\n",
       "  'which',\n",
       "  'is',\n",
       "  'respectful',\n",
       "  'of',\n",
       "  'my',\n",
       "  'personal',\n",
       "  'time,',\n",
       "  'and',\n",
       "  'extremely',\n",
       "  'contributive',\n",
       "  'to',\n",
       "  'my',\n",
       "  'loyalty',\n",
       "  'to',\n",
       "  'the',\n",
       "  'location.']]"
      ]
     },
     "execution_count": 23,
     "metadata": {
      "tags": []
     },
     "output_type": "execute_result"
    }
   ],
   "source": [
    "horrible200_reviews"
   ]
  },
  {
   "cell_type": "markdown",
   "metadata": {
    "colab_type": "text",
    "id": "OTYabm2mw_Ud"
   },
   "source": [
    "**Part 3: Classification with Logistic Regression**"
   ]
  },
  {
   "cell_type": "code",
   "execution_count": 0,
   "metadata": {
    "colab": {
     "base_uri": "https://localhost:8080/",
     "height": 447
    },
    "colab_type": "code",
    "id": "jg2fCokRj-oA",
    "outputId": "a7663aa4-de84-4973-9f34-591c12db9eba"
   },
   "outputs": [
    {
     "name": "stderr",
     "output_type": "stream",
     "text": [
      "/usr/local/lib/python3.6/dist-packages/sklearn/linear_model/logistic.py:433: FutureWarning: Default solver will be changed to 'lbfgs' in 0.22. Specify a solver to silence this warning.\n",
      "  FutureWarning)\n"
     ]
    },
    {
     "name": "stdout",
     "output_type": "stream",
     "text": [
      "test_score 0.925\n",
      "train_score 0.9977777777777778\n"
     ]
    },
    {
     "data": {
      "image/png": "[encoded data removed]",
      "text/plain": [
       "<Figure size 576x396 with 1 Axes>"
      ]
     },
     "metadata": {
      "tags": []
     },
     "output_type": "display_data"
    }
   ],
   "source": [
    "### 1.\n",
    "from sklearn.model_selection import train_test_split\n",
    "X_train, X_test, y_train, y_test = train_test_split(new_X, y, test_size=0.1, random_state=42)\n",
    "\n",
    "### 2.\n",
    "from sklearn.linear_model import LogisticRegression\n",
    "logisticRegr = LogisticRegression()\n",
    "logisticRegr.fit(X_train, y_train)\n",
    "y_test_pred= logisticRegr.predict(X_test)\n",
    "y_train_pred = logisticRegr.predict(X_train)\n",
    "\n",
    "### 3.\n",
    "from sklearn.metrics import accuracy_score\n",
    "test_score = accuracy_score(y_test, y_test_pred)\n",
    "train_score = accuracy_score(y_train, y_train_pred)\n",
    "print(\"test_score\", test_score)\n",
    "print(\"train_score\", train_score)"
   ]
  },
  {
   "cell_type": "code",
   "execution_count": 0,
   "metadata": {
    "colab": {
     "base_uri": "https://localhost:8080/",
     "height": 52
    },
    "colab_type": "code",
    "id": "DnA20BlSkprb",
    "outputId": "93d9c444-7a4f-4f67-ad44-87797885f435"
   },
   "outputs": [
    {
     "name": "stdout",
     "output_type": "stream",
     "text": [
      "train score 0.9966666666666667\n",
      "test score 0.915\n"
     ]
    }
   ],
   "source": [
    "thresh = 0.6\n",
    "new_pos = pos[pos >= thresh]\n",
    "new_neg = pos[pos < thresh]\n",
    "\n",
    "new_train = np.copy(pos)\n",
    "threshold_indices_greater = new_train >= thresh\n",
    "threshold_indices_less = new_train < thresh\n",
    "new_train[threshold_indices_greater] = 5\n",
    "new_train[threshold_indices_less] = 1\n",
    "\n",
    "prob_test = logisticRegr.predict_proba(X_test)\n",
    "new_test = np.copy(prob_test[:,1])\n",
    "threshold_indices_greater = new_test >= thresh\n",
    "threshold_indices_less = new_test < thresh\n",
    "new_test[threshold_indices_greater] = 5\n",
    "new_test[threshold_indices_less] = 1\n",
    "\n",
    "test_score_new = accuracy_score(y_test, new_test)\n",
    "train_score_new = accuracy_score(y_train, new_train)\n",
    "print(\"train score\", train_score_new)\n",
    "print(\"test score\", test_score_new)"
   ]
  },
  {
   "cell_type": "code",
   "execution_count": 0,
   "metadata": {
    "colab": {
     "base_uri": "https://localhost:8080/",
     "height": 1460
    },
    "colab_type": "code",
    "id": "_mpN_QbOs0zg",
    "outputId": "0d9bf74a-9ea0-416f-d01e-f4737c35365b"
   },
   "outputs": [
    {
     "name": "stderr",
     "output_type": "stream",
     "text": [
      "/usr/local/lib/python3.6/dist-packages/sklearn/linear_model/logistic.py:433: FutureWarning: Default solver will be changed to 'lbfgs' in 0.22. Specify a solver to silence this warning.\n",
      "  FutureWarning)\n"
     ]
    },
    {
     "data": {
      "image/png": "[encoded data removed]",
      "text/plain": [
       "<Figure size 576x396 with 1 Axes>"
      ]
     },
     "metadata": {
      "tags": []
     },
     "output_type": "display_data"
    },
    {
     "data": {
      "image/png": "[encoded data removed]",
      "text/plain": [
       "<Figure size 576x396 with 1 Axes>"
      ]
     },
     "metadata": {
      "tags": []
     },
     "output_type": "display_data"
    },
    {
     "data": {
      "image/png": "[encoded data removed]",
      "text/plain": [
       "<Figure size 576x396 with 1 Axes>"
      ]
     },
     "metadata": {
      "tags": []
     },
     "output_type": "display_data"
    },
    {
     "data": {
      "image/png": "[encoded data removed]",
      "text/plain": [
       "<Figure size 576x396 with 1 Axes>"
      ]
     },
     "metadata": {
      "tags": []
     },
     "output_type": "display_data"
    }
   ],
   "source": [
    "### 1.\n",
    "from sklearn.model_selection import train_test_split\n",
    "X_train, X_test, y_train, y_test = train_test_split(new_X, y, test_size=0.1, random_state=42)\n",
    "\n",
    "### 2.\n",
    "from sklearn.linear_model import LogisticRegression\n",
    "logisticRegr = LogisticRegression()\n",
    "logisticRegr.fit(X_train, y_train)\n",
    "y_test_pred= logisticRegr.predict(X_test)\n",
    "y_train_pred = logisticRegr.predict(X_train)\n",
    "\n",
    "### 3.\n",
    "from sklearn.metrics import accuracy_score\n",
    "test_score = accuracy_score(y_test, y_test_pred)\n",
    "train_score = accuracy_score(y_train, y_train_pred)\n",
    "\n",
    "### 4.\n",
    "## Plot a histogram of the scores on the training data.\n",
    "prob = logisticRegr.predict_proba(X_train)\n",
    "neg = prob[:,0]\n",
    "pos = prob[:,1]\n",
    "\n",
    "pyplot.hist(pos, alpha=0.3, label='pos')\n",
    "pyplot.hist(neg, alpha=0.3, label='neg')\n",
    "pyplot.legend(loc='upper right')\n",
    "pyplot.ylabel(\"Count of Predictions in Bucket\")\n",
    "pyplot.xlabel(\"Predicted Score\")\n",
    "pyplot.title(\"Histogram of Predicted Scores\")\n",
    "pyplot.show()\n",
    "\n",
    "# set a new threshold\n",
    "thresh = 0.6\n",
    "new_pos = pos[pos >= thresh]\n",
    "new_neg = pos[pos < thresh]\n",
    "\n",
    "pyplot.hist(new_pos, alpha=0.3, label='pos')\n",
    "pyplot.hist(new_neg, alpha=0.3, label='neg')\n",
    "pyplot.legend(loc='upper right')\n",
    "pyplot.show()\n",
    "\n",
    "new_train = np.copy(pos)\n",
    "threshold_indices_greater = new_train >= thresh\n",
    "threshold_indices_less = new_train < thresh\n",
    "new_train[threshold_indices_greater] = 5\n",
    "new_train[threshold_indices_less] = 1\n",
    "\n",
    "prob_test = logisticRegr.predict_proba(X_test)\n",
    "new_test = np.copy(prob_test[:,1])\n",
    "threshold_indices_greater = new_test >= thresh\n",
    "threshold_indices_less = new_test < thresh\n",
    "new_test[threshold_indices_greater] = 5\n",
    "new_test[threshold_indices_less] = 1\n",
    "\n",
    "test_score_new = accuracy_score(y_test, new_test)\n",
    "train_score_new = accuracy_score(y_train, new_train)\n",
    "\n",
    "# ROC curve\n",
    "# train data \n",
    "y_train_true = np.array((y_train_pred == y_train).astype(int))\n",
    "import sklearn.metrics as metrics\n",
    "# calculate the fpr and tpr for all thresholds of the classification\n",
    "fpr, tpr, threshold = metrics.roc_curve(y_train, pos, pos_label=5)\n",
    "roc_auc = metrics.auc(fpr, tpr)\n",
    "\n",
    "# import matplotlib.pyplot as plt\n",
    "plt.title('Train Data Receiver Operating Characteristic')\n",
    "plt.plot(fpr, tpr, 'b', label = 'AUC = %0.2f' % roc_auc)\n",
    "plt.legend(loc = 'lower right')\n",
    "plt.plot([0, 1], [0, 1],'r--')\n",
    "plt.xlim([0, 1])\n",
    "plt.ylim([0, 1])\n",
    "plt.ylabel('True Positive Rate')\n",
    "plt.xlabel('False Positive Rate')\n",
    "plt.show()\n",
    "\n",
    "# test data\n",
    "prob_test = logisticRegr.predict_proba(X_test)\n",
    "pos_test = prob_test[:,1]\n",
    "y_test_true = np.array((y_test_pred == y_test).astype(int))\n",
    "import sklearn.metrics as metrics\n",
    "# calculate the fpr and tpr for all thresholds of the classification\n",
    "fpr, tpr, threshold = metrics.roc_curve(y_test, pos_test, pos_label = 5)\n",
    "roc_auc = metrics.auc(fpr, tpr)\n",
    "\n",
    "import matplotlib.pyplot as plt\n",
    "plt.title('Test Data Receiver Operating Characteristic')\n",
    "plt.plot(fpr, tpr, 'b', label = 'AUC = %0.2f' % roc_auc)\n",
    "plt.legend(loc = 'lower right')\n",
    "plt.plot([0, 1], [0, 1],'r--')\n",
    "plt.xlim([0, 1])\n",
    "plt.ylim([0, 1])\n",
    "plt.ylabel('True Positive Rate')\n",
    "plt.xlabel('False Positive Rate')\n",
    "plt.show()"
   ]
  },
  {
   "cell_type": "code",
   "execution_count": 0,
   "metadata": {
    "colab": {
     "base_uri": "https://localhost:8080/",
     "height": 35
    },
    "colab_type": "code",
    "id": "Jai8pe7L9ogt",
    "outputId": "4acc51af-0a2b-43b2-8e38-c6fde4586766"
   },
   "outputs": [
    {
     "data": {
      "text/plain": [
       "0.995"
      ]
     },
     "execution_count": 9,
     "metadata": {
      "tags": []
     },
     "output_type": "execute_result"
    }
   ],
   "source": [
    "train_score_new"
   ]
  },
  {
   "cell_type": "code",
   "execution_count": 0,
   "metadata": {
    "colab": {},
    "colab_type": "code",
    "id": "IbLdTLn790Iy"
   },
   "outputs": [],
   "source": []
  }
 ],
 "metadata": {
  "colab": {
   "collapsed_sections": [],
   "name": "HW7.ipynb",
   "provenance": [],
   "version": "0.3.2"
  },
  "kernelspec": {
   "display_name": "Python 3",
   "language": "python",
   "name": "python3"
  },
  "language_info": {
   "codemirror_mode": {
    "name": "ipython",
    "version": 3
   },
   "file_extension": ".py",
   "mimetype": "text/x-python",
   "name": "python",
   "nbconvert_exporter": "python",
   "pygments_lexer": "ipython3",
   "version": "3.6.7"
  }
 },
 "nbformat": 4,
 "nbformat_minor": 1
}
